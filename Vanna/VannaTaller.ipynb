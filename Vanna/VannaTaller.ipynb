{
  "cells": [
    {
      "cell_type": "markdown",
      "metadata": {
        "id": "WvYIxU6gBam-"
      },
      "source": [
        "# VannaAI\n",
        "\n",
        "Uso de vanna ia para la bd minitest_sqlite3"
      ]
    },
    {
      "cell_type": "code",
      "execution_count": 2,
      "metadata": {
        "id": "Yiw7lf8cB-wK"
      },
      "outputs": [],
      "source": [
        "import sqlite3\n",
        "import pandas as pd\n",
        "from vanna.remote import VannaDefault\n",
        "\n",
        "from dotenv import load_dotenv\n",
        "import os\n"
      ]
    },
    {
      "cell_type": "code",
      "execution_count": null,
      "metadata": {},
      "outputs": [],
      "source": [
        "\n",
        "load_dotenv(dotenv_path='../.env')\n",
        "\n",
        "# https://vanna.ai/account/profile\n",
        "\n",
        "api_key = os.getenv('RAPIDAPI_KEY')\n",
        "vanna_model_name = os.getenv('RAPIDAPI_HOST')\n",
        "\n",
        "vn = VannaDefault(model=vanna_model_name, api_key=api_key)\n",
        "conn = sqlite3.connect('Dbs/db_minitest.sqlite3')"
      ]
    },
    {
      "cell_type": "markdown",
      "metadata": {
        "id": "jikCF7mgDR0g"
      },
      "source": [
        "\n",
        "- DDL: definición de las tablas.\n"
      ]
    },
    {
      "cell_type": "code",
      "execution_count": null,
      "metadata": {
        "colab": {
          "base_uri": "https://localhost:8080/",
          "height": 192
        },
        "id": "1c-vtP3XDIIE",
        "outputId": "1f9e2681-8e57-4673-98f1-56d01ce8b442"
      },
      "outputs": [
        {
          "name": "stdout",
          "output_type": "stream",
          "text": [
            "Adding ddl: \n",
            "    CREATE TABLE users (\n",
            "    user_id INTEGER PRIMARY KEY,\n",
            "    name VARCHAR(100),\n",
            "    age INTEGER,\n",
            "    email VARCHAR(100),\n",
            "    created_at DATE\n",
            ");\n",
            "    CREATE TABLE profiles (\n",
            "    user_id INTEGER PRIMARY KEY,\n",
            "    address VARCHAR(255),\n",
            "    phone VARCHAR(50),\n",
            "    FOREIGN KEY (user_id) REFERENCES users(user_id)\n",
            ");\n",
            "CREATE TABLE orders (\n",
            "    order_id INTEGER PRIMARY KEY,\n",
            "    user_id INTEGER,\n",
            "    product VARCHAR(100),\n",
            "    amount FLOAT,\n",
            "    order_date DATE,\n",
            "    FOREIGN KEY (user_id) REFERENCES users(user_id)\n",
            ");\n",
            "\n",
            "\n",
            "\n"
          ]
        },
        {
          "data": {
            "text/plain": [
              "'16887736-ddl'"
            ]
          },
          "execution_count": 4,
          "metadata": {},
          "output_type": "execute_result"
        }
      ],
      "source": [
        "vn.train(\n",
        "    ddl=\"\"\"\n",
        "    CREATE TABLE users (\n",
        "    user_id INTEGER PRIMARY KEY,\n",
        "    name VARCHAR(100),\n",
        "    age INTEGER,\n",
        "    email VARCHAR(100),\n",
        "    created_at DATE\n",
        ");\n",
        "    CREATE TABLE profiles (\n",
        "    user_id INTEGER PRIMARY KEY,\n",
        "    address VARCHAR(255),\n",
        "    phone VARCHAR(50),\n",
        "    FOREIGN KEY (user_id) REFERENCES users(user_id)\n",
        ");\n",
        "CREATE TABLE orders (\n",
        "    order_id INTEGER PRIMARY KEY,\n",
        "    user_id INTEGER,\n",
        "    product VARCHAR(100),\n",
        "    amount FLOAT,\n",
        "    order_date DATE,\n",
        "    FOREIGN KEY (user_id) REFERENCES users(user_id)\n",
        ");\n",
        "\n",
        "\n",
        "\"\"\"\n",
        ")vn.train(\n",
        "    ddl=\"\"\"\n",
        "    CREATE TABLE users (\n",
        "    user_id INTEGER PRIMARY KEY,\n",
        "    name VARCHAR(100),\n",
        "    age INTEGER,\n",
        "    email VARCHAR(100),\n",
        "    created_at DATE\n",
        ");\n",
        "    CREATE TABLE profiles (\n",
        "    user_id INTEGER PRIMARY KEY,\n",
        "    address VARCHAR(255),\n",
        "    phone VARCHAR(50),\n",
        "    FOREIGN KEY (user_id) REFERENCES users(user_id)\n",
        ");\n",
        "CREATE TABLE orders (\n",
        "    order_id INTEGER PRIMARY KEY,\n",
        "    user_id INTEGER,\n",
        "    product VARCHAR(100),\n",
        "    amount FLOAT,\n",
        "    order_date DATE,\n",
        "    FOREIGN KEY (user_id) REFERENCES users(user_id)\n",
        ");\n",
        "\n",
        "\n",
        "\"\"\"\n",
        ")"
      ]
    },
    {
      "cell_type": "code",
      "execution_count": 5,
      "metadata": {
        "colab": {
          "base_uri": "https://localhost:8080/",
          "height": 53
        },
        "id": "UaT0x4koDpON",
        "outputId": "435ef144-5cf3-4b9d-a1e4-60d40791e6db"
      },
      "outputs": [
        {
          "name": "stdout",
          "output_type": "stream",
          "text": [
            "Adding documentation....\n"
          ]
        },
        {
          "data": {
            "text/plain": [
              "'3442628-doc'"
            ]
          },
          "execution_count": 5,
          "metadata": {},
          "output_type": "execute_result"
        }
      ],
      "source": [
        "vn.train(\n",
        "    documentation=\"El usuario puede usar el nombre de las personas en lugar del pedido.\"\n",
        ")"
      ]
    },
    {
      "cell_type": "code",
      "execution_count": 6,
      "metadata": {
        "colab": {
          "base_uri": "https://localhost:8080/",
          "height": 53
        },
        "id": "PkvxxEIJEAS7",
        "outputId": "d3106ad3-2ba4-4742-e629-ca6963e5842d"
      },
      "outputs": [
        {
          "name": "stdout",
          "output_type": "stream",
          "text": [
            "Adding documentation....\n"
          ]
        },
        {
          "data": {
            "text/plain": [
              "'3442629-doc'"
            ]
          },
          "execution_count": 6,
          "metadata": {},
          "output_type": "execute_result"
        }
      ],
      "source": [
        "vn.train(\n",
        "    documentation=\"\"\"Términos comunes del negocio:\n",
        "- \"contacto del usuario\" = nombre, email, teléfono, dirección\n",
        "- \"usuarios recientes\" = registrados este año (`created_at`)\n",
        "- \"pedidos recientes\" = por `order_date`\n",
        "- \"historial de compras\" = suma de `amount` en `orders`\n",
        "- \"ciudades activas\" = direcciones de usuarios con pedidos\n",
        "- Grupos de edad:\n",
        "  - Jóvenes: menores de 25\n",
        "  - Adultos: entre 25 y 40\n",
        "  - Seniors: mayores de 40\"\"\"\n",
        ")"
      ]
    },
    {
      "cell_type": "code",
      "execution_count": 7,
      "metadata": {},
      "outputs": [
        {
          "data": {
            "text/plain": [
              "'856b141ad012125bf8c3c72517ef4069-sql'"
            ]
          },
          "execution_count": 7,
          "metadata": {},
          "output_type": "execute_result"
        }
      ],
      "source": [
        "vn.train(\n",
        "    question=\"¿Cuáles son los primeros 5 contactos de usuarios mayores de 30 años que se registraron este año?\",\n",
        "    sql=\"\"\"\n",
        "    SELECT u.name, u.email, p.phone, p.address, u.created_at\n",
        "    FROM users u\n",
        "    JOIN profiles p ON u.user_id = p.user_id\n",
        "    WHERE u.age > 30\n",
        "      AND strftime('%Y', u.created_at) = strftime('%Y', DATE('now'))\n",
        "    ORDER BY u.created_at ASC\n",
        "    LIMIT 5;\n",
        "    \"\"\"\n",
        ")\n"
      ]
    },
    {
      "cell_type": "code",
      "execution_count": 8,
      "metadata": {},
      "outputs": [
        {
          "data": {
            "text/plain": [
              "'61f4a2e4aa4571e1e86a0326e27ffe40-sql'"
            ]
          },
          "execution_count": 8,
          "metadata": {},
          "output_type": "execute_result"
        }
      ],
      "source": [
        "vn.train(\n",
        "    question=\"Muéstrame todos los datos de los usuarios con sus pedidos más recientes, ordenados cronológicamente.\",\n",
        "    sql=\"\"\"\n",
        "    SELECT u.*, p.phone, p.address, o.*\n",
        "    FROM users u\n",
        "    JOIN profiles p ON u.user_id = p.user_id\n",
        "    JOIN orders o ON u.user_id = o.user_id\n",
        "    ORDER BY o.order_date DESC;\n",
        "    \"\"\"\n",
        ")"
      ]
    },
    {
      "cell_type": "code",
      "execution_count": 9,
      "metadata": {},
      "outputs": [
        {
          "data": {
            "text/plain": [
              "'3840e835343b7d806d48f578b4906584-sql'"
            ]
          },
          "execution_count": 9,
          "metadata": {},
          "output_type": "execute_result"
        }
      ],
      "source": [
        "vn.train(\n",
        "    question=\"¿En qué ciudades viven usuarios que han hecho al menos dos pedidos?\",\n",
        "    sql=\"\"\"\n",
        "    SELECT DISTINCT p.address\n",
        "    FROM users u\n",
        "    JOIN profiles p ON u.user_id = p.user_id\n",
        "    JOIN orders o ON u.user_id = o.user_id\n",
        "    GROUP BY u.user_id\n",
        "    HAVING COUNT(o.order_id) >= 2;\n",
        "    \"\"\"\n",
        ")\n"
      ]
    },
    {
      "cell_type": "code",
      "execution_count": 22,
      "metadata": {},
      "outputs": [
        {
          "data": {
            "text/plain": [
              "'3cc92501e645f0b467a9957a4fecbf35-sql'"
            ]
          },
          "execution_count": 22,
          "metadata": {},
          "output_type": "execute_result"
        }
      ],
      "source": [
        "vn.train(\n",
        "    question=\"¿Cuánto ha gastado cada cliente que ha superado los 700 dólares en pedidos?\",\n",
        "    sql=\"\"\"\n",
        "    SELECT u.name, u.email, SUM(o.amount) AS total_gastado\n",
        "    FROM users u\n",
        "    JOIN orders o ON u.user_id = o.user_id\n",
        "    GROUP BY u.user_id\n",
        "    HAVING total_gastado > 700;\n",
        "    \"\"\"\n",
        ")\n"
      ]
    },
    {
      "cell_type": "code",
      "execution_count": 20,
      "metadata": {},
      "outputs": [
        {
          "data": {
            "text/plain": [
              "'405756c8a6326646ae5ea9c3b110e403-sql'"
            ]
          },
          "execution_count": 20,
          "metadata": {},
          "output_type": "execute_result"
        }
      ],
      "source": [
        "vn.train(\n",
        "    question=\"¿Cuántos usuarios hay en cada grupo de edad: jóvenes, adultos y seniors?\",\n",
        "    sql=\"\"\"\n",
        "    SELECT \n",
        "      CASE \n",
        "        WHEN age < 25 THEN 'Jóvenes'\n",
        "        WHEN age BETWEEN 25 AND 40 THEN 'Adultos'\n",
        "        ELSE 'Seniors'\n",
        "      END AS grupo_edad,\n",
        "      COUNT(*) AS total\n",
        "    FROM users\n",
        "    GROUP BY grupo_edad;\n",
        "    \"\"\"\n",
        ")\n"
      ]
    },
    {
      "cell_type": "code",
      "execution_count": 21,
      "metadata": {},
      "outputs": [
        {
          "data": {
            "text/plain": [
              "'31d6f34f6b3b44b88cf4f687d1204730-sql'"
            ]
          },
          "execution_count": 21,
          "metadata": {},
          "output_type": "execute_result"
        }
      ],
      "source": [
        "vn.train(\n",
        "    question=\"¿Cuántos usuarios hay en cada grupo de edad\",\n",
        "    sql=\"\"\"\n",
        "    SELECT \n",
        "      CASE \n",
        "        WHEN age < 25 THEN 'Jóvenes'\n",
        "        WHEN age BETWEEN 25 AND 40 THEN 'Adultos'\n",
        "        ELSE 'Seniors'\n",
        "      END AS grupo_edad,\n",
        "      COUNT(*) AS total\n",
        "    FROM users\n",
        "    GROUP BY grupo_edad;\n",
        "    \"\"\"\n",
        ")\n"
      ]
    },
    {
      "cell_type": "markdown",
      "metadata": {
        "id": "CtYS0qZWGBQ4"
      },
      "source": [
        "Para visualizar lo almacenado hasta el momento:"
      ]
    },
    {
      "cell_type": "code",
      "execution_count": 23,
      "metadata": {
        "colab": {
          "base_uri": "https://localhost:8080/",
          "height": 206
        },
        "id": "XTEGI9xoGACk",
        "outputId": "d3c58adc-0a20-4f85-bb9f-27d35340a653"
      },
      "outputs": [
        {
          "data": {
            "text/html": [
              "<div>\n",
              "<style scoped>\n",
              "    .dataframe tbody tr th:only-of-type {\n",
              "        vertical-align: middle;\n",
              "    }\n",
              "\n",
              "    .dataframe tbody tr th {\n",
              "        vertical-align: top;\n",
              "    }\n",
              "\n",
              "    .dataframe thead th {\n",
              "        text-align: right;\n",
              "    }\n",
              "</style>\n",
              "<table border=\"1\" class=\"dataframe\">\n",
              "  <thead>\n",
              "    <tr style=\"text-align: right;\">\n",
              "      <th></th>\n",
              "      <th>id</th>\n",
              "      <th>training_data_type</th>\n",
              "      <th>question</th>\n",
              "      <th>content</th>\n",
              "    </tr>\n",
              "  </thead>\n",
              "  <tbody>\n",
              "    <tr>\n",
              "      <th>0</th>\n",
              "      <td>1227013-sql</td>\n",
              "      <td>sql</td>\n",
              "      <td>¿En qué ciudades viven usuarios que han hecho ...</td>\n",
              "      <td>\\n    SELECT DISTINCT p.address\\n    FROM user...</td>\n",
              "    </tr>\n",
              "    <tr>\n",
              "      <th>1</th>\n",
              "      <td>3442628-doc</td>\n",
              "      <td>documentation</td>\n",
              "      <td>None</td>\n",
              "      <td>El usuario puede usar el nombre de las persona...</td>\n",
              "    </tr>\n",
              "    <tr>\n",
              "      <th>2</th>\n",
              "      <td>1227014-sql</td>\n",
              "      <td>sql</td>\n",
              "      <td>¿Cuántos usuarios hay en cada grupo de edad: j...</td>\n",
              "      <td>\\n    SELECT \\n      CASE \\n        WHEN age &lt;...</td>\n",
              "    </tr>\n",
              "    <tr>\n",
              "      <th>3</th>\n",
              "      <td>1227012-sql</td>\n",
              "      <td>sql</td>\n",
              "      <td>Muéstrame todos los datos de los usuarios con ...</td>\n",
              "      <td>\\n    SELECT u.*, p.phone, p.address, o.*\\n   ...</td>\n",
              "    </tr>\n",
              "    <tr>\n",
              "      <th>4</th>\n",
              "      <td>1227016-sql</td>\n",
              "      <td>sql</td>\n",
              "      <td>¿Cuánto ha gastado cada cliente que ha superad...</td>\n",
              "      <td>\\n    SELECT u.name, u.email, SUM(o.amount) AS...</td>\n",
              "    </tr>\n",
              "    <tr>\n",
              "      <th>5</th>\n",
              "      <td>16887736-ddl</td>\n",
              "      <td>ddl</td>\n",
              "      <td>None</td>\n",
              "      <td>\\n    CREATE TABLE users (\\n    user_id INTEGE...</td>\n",
              "    </tr>\n",
              "    <tr>\n",
              "      <th>6</th>\n",
              "      <td>1227015-sql</td>\n",
              "      <td>sql</td>\n",
              "      <td>¿Cuántos usuarios hay en cada grupo de edad</td>\n",
              "      <td>\\n    SELECT \\n      CASE \\n        WHEN age &lt;...</td>\n",
              "    </tr>\n",
              "    <tr>\n",
              "      <th>7</th>\n",
              "      <td>1227011-sql</td>\n",
              "      <td>sql</td>\n",
              "      <td>¿Cuáles son los primeros 5 contactos de usuari...</td>\n",
              "      <td>\\n    SELECT u.name, u.email, p.phone, p.addre...</td>\n",
              "    </tr>\n",
              "    <tr>\n",
              "      <th>8</th>\n",
              "      <td>3442629-doc</td>\n",
              "      <td>documentation</td>\n",
              "      <td>None</td>\n",
              "      <td>Términos comunes del negocio:\\n- \"contacto del...</td>\n",
              "    </tr>\n",
              "  </tbody>\n",
              "</table>\n",
              "</div>"
            ],
            "text/plain": [
              "             id training_data_type  \\\n",
              "0   1227013-sql                sql   \n",
              "1   3442628-doc      documentation   \n",
              "2   1227014-sql                sql   \n",
              "3   1227012-sql                sql   \n",
              "4   1227016-sql                sql   \n",
              "5  16887736-ddl                ddl   \n",
              "6   1227015-sql                sql   \n",
              "7   1227011-sql                sql   \n",
              "8   3442629-doc      documentation   \n",
              "\n",
              "                                            question  \\\n",
              "0  ¿En qué ciudades viven usuarios que han hecho ...   \n",
              "1                                               None   \n",
              "2  ¿Cuántos usuarios hay en cada grupo de edad: j...   \n",
              "3  Muéstrame todos los datos de los usuarios con ...   \n",
              "4  ¿Cuánto ha gastado cada cliente que ha superad...   \n",
              "5                                               None   \n",
              "6        ¿Cuántos usuarios hay en cada grupo de edad   \n",
              "7  ¿Cuáles son los primeros 5 contactos de usuari...   \n",
              "8                                               None   \n",
              "\n",
              "                                             content  \n",
              "0  \\n    SELECT DISTINCT p.address\\n    FROM user...  \n",
              "1  El usuario puede usar el nombre de las persona...  \n",
              "2  \\n    SELECT \\n      CASE \\n        WHEN age <...  \n",
              "3  \\n    SELECT u.*, p.phone, p.address, o.*\\n   ...  \n",
              "4  \\n    SELECT u.name, u.email, SUM(o.amount) AS...  \n",
              "5  \\n    CREATE TABLE users (\\n    user_id INTEGE...  \n",
              "6  \\n    SELECT \\n      CASE \\n        WHEN age <...  \n",
              "7  \\n    SELECT u.name, u.email, p.phone, p.addre...  \n",
              "8  Términos comunes del negocio:\\n- \"contacto del...  "
            ]
          },
          "execution_count": 23,
          "metadata": {},
          "output_type": "execute_result"
        }
      ],
      "source": [
        "vn.get_training_data()"
      ]
    },
    {
      "cell_type": "code",
      "execution_count": 18,
      "metadata": {
        "colab": {
          "base_uri": "https://localhost:8080/"
        },
        "id": "sQ11wJdQGLWS",
        "outputId": "7a629614-0886-46ec-d81a-caa30b155d1d"
      },
      "outputs": [
        {
          "data": {
            "text/plain": [
              "True"
            ]
          },
          "execution_count": 18,
          "metadata": {},
          "output_type": "execute_result"
        }
      ],
      "source": [
        "vn.remove_training_data('3436311-doc') # se ingresa el id que se visualiza en la tabla anterior"
      ]
    },
    {
      "cell_type": "markdown",
      "metadata": {
        "id": "j4-iE7sYFEzP"
      },
      "source": [
        "### GEN SQL"
      ]
    },
    {
      "cell_type": "code",
      "execution_count": 24,
      "metadata": {
        "colab": {
          "base_uri": "https://localhost:8080/"
        },
        "id": "-cpxCgSbFCo1",
        "outputId": "a9b71749-3076-4b1f-9680-e3885b05340c"
      },
      "outputs": [
        {
          "name": "stdout",
          "output_type": "stream",
          "text": [
            "SQL Prompt: [{'role': 'system', 'content': 'You are a SQL expert. Please help to generate a SQL query to answer the question. Your response should ONLY be based on the given context and follow the response guidelines and format instructions. \\n===Tables \\n\\n    CREATE TABLE users (\\n    user_id INTEGER PRIMARY KEY,\\n    name VARCHAR(100),\\n    age INTEGER,\\n    email VARCHAR(100),\\n    created_at DATE\\n);\\n    CREATE TABLE profiles (\\n    user_id INTEGER PRIMARY KEY,\\n    address VARCHAR(255),\\n    phone VARCHAR(50),\\n    FOREIGN KEY (user_id) REFERENCES users(user_id)\\n);\\nCREATE TABLE orders (\\n    order_id INTEGER PRIMARY KEY,\\n    user_id INTEGER,\\n    product VARCHAR(100),\\n    amount FLOAT,\\n    order_date DATE,\\n    FOREIGN KEY (user_id) REFERENCES users(user_id)\\n);\\n\\n\\n\\n\\n\\n===Additional Context \\n\\nEl usuario puede usar el nombre de las personas en lugar del pedido.\\n\\nTérminos comunes del negocio:\\n- \"contacto del usuario\" = nombre, email, teléfono, dirección\\n- \"usuarios recientes\" = registrados este año (`created_at`)\\n- \"pedidos recientes\" = por `order_date`\\n- \"historial de compras\" = suma de `amount` en `orders`\\n- \"ciudades activas\" = direcciones de usuarios con pedidos\\n- Grupos de edad:\\n  - Jóvenes: menores de 25\\n  - Adultos: entre 25 y 40\\n  - Seniors: mayores de 40\\n\\n===Response Guidelines \\n1. If the provided context is sufficient, please generate a valid SQL query without any explanations for the question. \\n2. If the provided context is almost sufficient but requires knowledge of a specific string in a particular column, please generate an intermediate SQL query to find the distinct strings in that column. Prepend the query with a comment saying intermediate_sql \\n3. If the provided context is insufficient, please explain why it can\\'t be generated. \\n4. Please use the most relevant table(s). \\n5. If the question has been asked and answered before, please repeat the answer exactly as it was given before. \\n6. Ensure that the output SQL is SQL-compliant and executable, and free of syntax errors. \\n'}, {'role': 'user', 'content': 'Muéstrame todos los datos de los usuarios con sus pedidos más recientes, ordenados cronológicamente.'}, {'role': 'assistant', 'content': '\\n    SELECT u.*, p.phone, p.address, o.*\\n    FROM users u\\n    JOIN profiles p ON u.user_id = p.user_id\\n    JOIN orders o ON u.user_id = o.user_id\\n    ORDER BY o.order_date DESC;\\n    '}, {'role': 'user', 'content': '¿En qué ciudades viven usuarios que han hecho al menos dos pedidos?'}, {'role': 'assistant', 'content': '\\n    SELECT DISTINCT p.address\\n    FROM users u\\n    JOIN profiles p ON u.user_id = p.user_id\\n    JOIN orders o ON u.user_id = o.user_id\\n    GROUP BY u.user_id\\n    HAVING COUNT(o.order_id) >= 2;\\n    '}, {'role': 'user', 'content': '¿Cuánto ha gastado cada cliente que ha superado los 700 dólares en pedidos?'}, {'role': 'assistant', 'content': '\\n    SELECT u.name, u.email, SUM(o.amount) AS total_gastado\\n    FROM users u\\n    JOIN orders o ON u.user_id = o.user_id\\n    GROUP BY u.user_id\\n    HAVING total_gastado > 700;\\n    '}, {'role': 'user', 'content': '¿Cuáles son los primeros 5 contactos de usuarios mayores de 30 años que se registraron este año?'}, {'role': 'assistant', 'content': \"\\n    SELECT u.name, u.email, p.phone, p.address, u.created_at\\n    FROM users u\\n    JOIN profiles p ON u.user_id = p.user_id\\n    WHERE u.age > 30\\n      AND strftime('%Y', u.created_at) = strftime('%Y', DATE('now'))\\n    ORDER BY u.created_at ASC\\n    LIMIT 5;\\n    \"}, {'role': 'user', 'content': '¿Cuántos usuarios hay en cada grupo de edad: jóvenes, adultos y seniors?'}, {'role': 'assistant', 'content': \"\\n    SELECT \\n      CASE \\n        WHEN age < 25 THEN 'Jóvenes'\\n        WHEN age BETWEEN 25 AND 40 THEN 'Adultos'\\n        ELSE 'Seniors'\\n      END AS grupo_edad,\\n      COUNT(*) AS total\\n    FROM users\\n    GROUP BY grupo_edad;\\n    \"}, {'role': 'user', 'content': '¿Cuántos usuarios hay en cada grupo de edad'}, {'role': 'assistant', 'content': \"\\n    SELECT \\n      CASE \\n        WHEN age < 25 THEN 'Jóvenes'\\n        WHEN age BETWEEN 25 AND 40 THEN 'Adultos'\\n        ELSE 'Seniors'\\n      END AS grupo_edad,\\n      COUNT(*) AS total\\n    FROM users\\n    GROUP BY grupo_edad;\\n    \"}, {'role': 'user', 'content': 'cual fue la ultima orden pedida?'}]\n",
            "LLM Response: \n",
            "    SELECT *\n",
            "    FROM orders\n",
            "    ORDER BY order_date DESC\n",
            "    LIMIT 1;\n",
            "    \n",
            "Extracted SQL: SELECT *\n",
            "    FROM orders\n",
            "    ORDER BY order_date DESC\n",
            "    LIMIT 1;\n"
          ]
        }
      ],
      "source": [
        "query = vn.generate_sql(\n",
        "    \"cual fue la ultima orden pedida?\"\n",
        ")"
      ]
    },
    {
      "cell_type": "code",
      "execution_count": null,
      "metadata": {},
      "outputs": [],
      "source": [
        "query1 = vn.generate_sql(\"en que ciudades viven personas que hayan hecho al menos dos pedidos, tambien quiero saber la cantidad de pedidos de estas personas\")\n",
        "query2 = vn.generate_sql(\"cual es el total gastado por cada usuario que haya gastado mas de 700 dolares en pedidos?\")\n",
        "query_usuarios_recientes = vn.generate_sql(\"contactos de usuarios mayores de 30 años registrados este año, ordenados por fecha de registro, primeros 5\")\n",
        "query_ciudades_activas = vn.generate_sql(\"ubicaciones únicas donde viven usuarios que hayan realizado al menos dos pedidos\")\n",
        "query_segmentacion_demografica = vn.generate_sql(\"desglose del número de usuarios por grupo de edad: jóvenes, adultos y seniors\")\n",
        "query_informe_combinado = vn.generate_sql(\"datos de contacto e información personal de cada usuario junto con sus pedidos más recientes, ordenados cronológicamente\")"
      ]
    },
    {
      "cell_type": "code",
      "execution_count": 34,
      "metadata": {},
      "outputs": [],
      "source": [
        "df_ultima_orden = pd.read_sql_query(query, conn)\n",
        "df_ciudades_pedidos = pd.read_sql_query(query1, conn)\n",
        "df_total_gastado = pd.read_sql_query(query2, conn)\n",
        "df_usuarios_recientes = pd.read_sql_query(query_usuarios_recientes, conn)\n",
        "df_ciudades_activas = pd.read_sql_query(query_ciudades_activas, conn)\n",
        "df_segmentacion_demografica = pd.read_sql_query(query_segmentacion_demografica, conn)\n",
        "df_informe_combinado = pd.read_sql_query(query_informe_combinado, conn)"
      ]
    },
    {
      "cell_type": "code",
      "execution_count": 35,
      "metadata": {},
      "outputs": [
        {
          "name": "stdout",
          "output_type": "stream",
          "text": [
            "df_ultima_orden:\n",
            "   order_id  user_id  product  amount  order_date\n",
            "0      1015        8  Charger    20.0  2025-06-06\n",
            "\n",
            "df_ciudades_pedidos:\n",
            "         address  cantidad_pedidos\n",
            "0    123 Main St                 2\n",
            "1    321 Pine St                 3\n",
            "2  654 Cedar Ave                 2\n",
            "3   987 Birch Rd                 3\n",
            "4  135 Willow Dr                 2\n",
            "\n",
            "df_total_gastado:\n",
            "    name  total_gastado\n",
            "0  Alice         1225.5\n",
            "\n",
            "df_usuarios_recientes:\n",
            "     name               email     phone        address  created_at\n",
            "0   Diana   diana@example.com  555-3456    321 Pine St  2025-03-15\n",
            "1  Edward  edward@example.com  555-7890  654 Cedar Ave  2025-04-10\n",
            "2  Hannah  hannah@example.com  555-0123  135 Willow Dr  2025-06-01\n",
            "\n",
            "df_ciudades_activas:\n",
            "         address\n",
            "0    123 Main St\n",
            "1    321 Pine St\n",
            "2  654 Cedar Ave\n",
            "3   987 Birch Rd\n",
            "4  135 Willow Dr\n",
            "\n",
            "df_segmentacion_demografica:\n",
            "  grupo_edad  total\n",
            "0    Adultos      3\n",
            "1    Jóvenes      2\n",
            "2    Seniors      3\n",
            "\n",
            "df_informe_combinado:\n",
            "    user_id     name  age                email  created_at     phone  \\\n",
            "0         8   Hannah   42   hannah@example.com  2025-06-01  555-0123   \n",
            "1         8   Hannah   42   hannah@example.com  2025-06-01  555-0123   \n",
            "2         6    Fiona   27    fiona@example.com  2025-05-12  555-2345   \n",
            "3         6    Fiona   27    fiona@example.com  2025-05-12  555-2345   \n",
            "4         6    Fiona   27    fiona@example.com  2025-05-12  555-2345   \n",
            "5         5   Edward   55   edward@example.com  2025-04-10  555-7890   \n",
            "6         5   Edward   55   edward@example.com  2025-04-10  555-7890   \n",
            "7         4    Diana   35    diana@example.com  2025-03-15  555-3456   \n",
            "8         4    Diana   35    diana@example.com  2025-03-15  555-3456   \n",
            "9         4    Diana   35    diana@example.com  2025-03-15  555-3456   \n",
            "10        2      Bob   22      bob@example.com  2025-02-20  555-5678   \n",
            "11        1    Alice   30    alice@example.com  2025-01-10  555-1234   \n",
            "12        1    Alice   30    alice@example.com  2025-01-10  555-1234   \n",
            "13        3  Charlie   45  charlie@example.com  2024-12-05  555-9012   \n",
            "14        7   George   19   george@example.com  2024-10-30  555-6789   \n",
            "\n",
            "          address  order_id  user_id      product  amount  order_date  \n",
            "0   135 Willow Dr      1015        8      Charger    20.0  2025-06-06  \n",
            "1   135 Willow Dr      1014        8   Smartwatch   250.0  2025-06-05  \n",
            "2    987 Birch Rd      1012        6       Filter    30.0  2025-05-17  \n",
            "3    987 Birch Rd      1011        6          Bag    50.0  2025-05-16  \n",
            "4    987 Birch Rd      1010        6         Lens   200.0  2025-05-15  \n",
            "5   654 Cedar Ave      1009        5       Tripod    80.0  2025-04-16  \n",
            "6   654 Cedar Ave      1008        5       Camera   500.0  2025-04-15  \n",
            "7     321 Pine St      1007        4       Webcam    55.0  2025-04-01  \n",
            "8     321 Pine St      1006        4   Headphones    85.0  2025-03-25  \n",
            "9     321 Pine St      1005        4       Tablet   450.0  2025-03-20  \n",
            "10     456 Elm St      1003        2     Keyboard    75.0  2025-03-01  \n",
            "11    123 Main St      1002        1        Mouse    25.5  2025-02-15  \n",
            "12    123 Main St      1001        1       Laptop  1200.0  2025-02-01  \n",
            "13     789 Oak St      1004        3      Monitor   300.0  2024-12-20  \n",
            "14  246 Spruce Ln      1013        7  Memory Card    45.0  2024-11-05  \n"
          ]
        }
      ],
      "source": [
        "print(\"df_ultima_orden:\")\n",
        "print(df_ultima_orden)\n",
        "print(\"\\ndf_ciudades_pedidos:\")\n",
        "print(df_ciudades_pedidos)\n",
        "print(\"\\ndf_total_gastado:\")\n",
        "print(df_total_gastado)\n",
        "print(\"\\ndf_usuarios_recientes:\")\n",
        "print(df_usuarios_recientes)\n",
        "print(\"\\ndf_ciudades_activas:\")\n",
        "print(df_ciudades_activas)\n",
        "print(\"\\ndf_segmentacion_demografica:\")\n",
        "print(df_segmentacion_demografica)\n",
        "print(\"\\ndf_informe_combinado:\")\n",
        "print(df_informe_combinado)"
      ]
    },
    {
      "cell_type": "markdown",
      "metadata": {},
      "source": [
        "##### Preguntas extra"
      ]
    },
    {
      "cell_type": "code",
      "execution_count": 36,
      "metadata": {},
      "outputs": [
        {
          "name": "stdout",
          "output_type": "stream",
          "text": [
            "SQL Prompt: [{'role': 'system', 'content': 'You are a SQL expert. Please help to generate a SQL query to answer the question. Your response should ONLY be based on the given context and follow the response guidelines and format instructions. \\n===Tables \\n\\n    CREATE TABLE users (\\n    user_id INTEGER PRIMARY KEY,\\n    name VARCHAR(100),\\n    age INTEGER,\\n    email VARCHAR(100),\\n    created_at DATE\\n);\\n    CREATE TABLE profiles (\\n    user_id INTEGER PRIMARY KEY,\\n    address VARCHAR(255),\\n    phone VARCHAR(50),\\n    FOREIGN KEY (user_id) REFERENCES users(user_id)\\n);\\nCREATE TABLE orders (\\n    order_id INTEGER PRIMARY KEY,\\n    user_id INTEGER,\\n    product VARCHAR(100),\\n    amount FLOAT,\\n    order_date DATE,\\n    FOREIGN KEY (user_id) REFERENCES users(user_id)\\n);\\n\\n\\n\\n\\n\\n===Additional Context \\n\\nTérminos comunes del negocio:\\n- \"contacto del usuario\" = nombre, email, teléfono, dirección\\n- \"usuarios recientes\" = registrados este año (`created_at`)\\n- \"pedidos recientes\" = por `order_date`\\n- \"historial de compras\" = suma de `amount` en `orders`\\n- \"ciudades activas\" = direcciones de usuarios con pedidos\\n- Grupos de edad:\\n  - Jóvenes: menores de 25\\n  - Adultos: entre 25 y 40\\n  - Seniors: mayores de 40\\n\\nEl usuario puede usar el nombre de las personas en lugar del pedido.\\n\\n===Response Guidelines \\n1. If the provided context is sufficient, please generate a valid SQL query without any explanations for the question. \\n2. If the provided context is almost sufficient but requires knowledge of a specific string in a particular column, please generate an intermediate SQL query to find the distinct strings in that column. Prepend the query with a comment saying intermediate_sql \\n3. If the provided context is insufficient, please explain why it can\\'t be generated. \\n4. Please use the most relevant table(s). \\n5. If the question has been asked and answered before, please repeat the answer exactly as it was given before. \\n6. Ensure that the output SQL is SQL-compliant and executable, and free of syntax errors. \\n'}, {'role': 'user', 'content': '¿Cuánto ha gastado cada cliente que ha superado los 700 dólares en pedidos?'}, {'role': 'assistant', 'content': '\\n    SELECT u.name, u.email, SUM(o.amount) AS total_gastado\\n    FROM users u\\n    JOIN orders o ON u.user_id = o.user_id\\n    GROUP BY u.user_id\\n    HAVING total_gastado > 700;\\n    '}, {'role': 'user', 'content': 'Muéstrame todos los datos de los usuarios con sus pedidos más recientes, ordenados cronológicamente.'}, {'role': 'assistant', 'content': '\\n    SELECT u.*, p.phone, p.address, o.*\\n    FROM users u\\n    JOIN profiles p ON u.user_id = p.user_id\\n    JOIN orders o ON u.user_id = o.user_id\\n    ORDER BY o.order_date DESC;\\n    '}, {'role': 'user', 'content': '¿En qué ciudades viven usuarios que han hecho al menos dos pedidos?'}, {'role': 'assistant', 'content': '\\n    SELECT DISTINCT p.address\\n    FROM users u\\n    JOIN profiles p ON u.user_id = p.user_id\\n    JOIN orders o ON u.user_id = o.user_id\\n    GROUP BY u.user_id\\n    HAVING COUNT(o.order_id) >= 2;\\n    '}, {'role': 'user', 'content': '¿Cuántos usuarios hay en cada grupo de edad: jóvenes, adultos y seniors?'}, {'role': 'assistant', 'content': \"\\n    SELECT \\n      CASE \\n        WHEN age < 25 THEN 'Jóvenes'\\n        WHEN age BETWEEN 25 AND 40 THEN 'Adultos'\\n        ELSE 'Seniors'\\n      END AS grupo_edad,\\n      COUNT(*) AS total\\n    FROM users\\n    GROUP BY grupo_edad;\\n    \"}, {'role': 'user', 'content': '¿Cuántos usuarios hay en cada grupo de edad'}, {'role': 'assistant', 'content': \"\\n    SELECT \\n      CASE \\n        WHEN age < 25 THEN 'Jóvenes'\\n        WHEN age BETWEEN 25 AND 40 THEN 'Adultos'\\n        ELSE 'Seniors'\\n      END AS grupo_edad,\\n      COUNT(*) AS total\\n    FROM users\\n    GROUP BY grupo_edad;\\n    \"}, {'role': 'user', 'content': '¿Cuáles son los primeros 5 contactos de usuarios mayores de 30 años que se registraron este año?'}, {'role': 'assistant', 'content': \"\\n    SELECT u.name, u.email, p.phone, p.address, u.created_at\\n    FROM users u\\n    JOIN profiles p ON u.user_id = p.user_id\\n    WHERE u.age > 30\\n      AND strftime('%Y', u.created_at) = strftime('%Y', DATE('now'))\\n    ORDER BY u.created_at ASC\\n    LIMIT 5;\\n    \"}, {'role': 'user', 'content': '¿Cuáles son los 3 productos más vendidos y cuántas veces se vendió cada uno?'}]\n",
            "LLM Response: \n",
            "    SELECT product, COUNT(*) AS cantidad_vendida\n",
            "    FROM orders\n",
            "    GROUP BY product\n",
            "    ORDER BY cantidad_vendida DESC\n",
            "    LIMIT 3;\n",
            "    \n",
            "Extracted SQL: SELECT product, COUNT(*) AS cantidad_vendida\n",
            "    FROM orders\n",
            "    GROUP BY product\n",
            "    ORDER BY cantidad_vendida DESC\n",
            "    LIMIT 3;\n",
            "SQL Prompt: [{'role': 'system', 'content': 'You are a SQL expert. Please help to generate a SQL query to answer the question. Your response should ONLY be based on the given context and follow the response guidelines and format instructions. \\n===Tables \\n\\n    CREATE TABLE users (\\n    user_id INTEGER PRIMARY KEY,\\n    name VARCHAR(100),\\n    age INTEGER,\\n    email VARCHAR(100),\\n    created_at DATE\\n);\\n    CREATE TABLE profiles (\\n    user_id INTEGER PRIMARY KEY,\\n    address VARCHAR(255),\\n    phone VARCHAR(50),\\n    FOREIGN KEY (user_id) REFERENCES users(user_id)\\n);\\nCREATE TABLE orders (\\n    order_id INTEGER PRIMARY KEY,\\n    user_id INTEGER,\\n    product VARCHAR(100),\\n    amount FLOAT,\\n    order_date DATE,\\n    FOREIGN KEY (user_id) REFERENCES users(user_id)\\n);\\n\\n\\n\\n\\n\\n===Additional Context \\n\\nTérminos comunes del negocio:\\n- \"contacto del usuario\" = nombre, email, teléfono, dirección\\n- \"usuarios recientes\" = registrados este año (`created_at`)\\n- \"pedidos recientes\" = por `order_date`\\n- \"historial de compras\" = suma de `amount` en `orders`\\n- \"ciudades activas\" = direcciones de usuarios con pedidos\\n- Grupos de edad:\\n  - Jóvenes: menores de 25\\n  - Adultos: entre 25 y 40\\n  - Seniors: mayores de 40\\n\\nEl usuario puede usar el nombre de las personas en lugar del pedido.\\n\\n===Response Guidelines \\n1. If the provided context is sufficient, please generate a valid SQL query without any explanations for the question. \\n2. If the provided context is almost sufficient but requires knowledge of a specific string in a particular column, please generate an intermediate SQL query to find the distinct strings in that column. Prepend the query with a comment saying intermediate_sql \\n3. If the provided context is insufficient, please explain why it can\\'t be generated. \\n4. Please use the most relevant table(s). \\n5. If the question has been asked and answered before, please repeat the answer exactly as it was given before. \\n6. Ensure that the output SQL is SQL-compliant and executable, and free of syntax errors. \\n'}, {'role': 'user', 'content': '¿Cuánto ha gastado cada cliente que ha superado los 700 dólares en pedidos?'}, {'role': 'assistant', 'content': '\\n    SELECT u.name, u.email, SUM(o.amount) AS total_gastado\\n    FROM users u\\n    JOIN orders o ON u.user_id = o.user_id\\n    GROUP BY u.user_id\\n    HAVING total_gastado > 700;\\n    '}, {'role': 'user', 'content': '¿En qué ciudades viven usuarios que han hecho al menos dos pedidos?'}, {'role': 'assistant', 'content': '\\n    SELECT DISTINCT p.address\\n    FROM users u\\n    JOIN profiles p ON u.user_id = p.user_id\\n    JOIN orders o ON u.user_id = o.user_id\\n    GROUP BY u.user_id\\n    HAVING COUNT(o.order_id) >= 2;\\n    '}, {'role': 'user', 'content': 'Muéstrame todos los datos de los usuarios con sus pedidos más recientes, ordenados cronológicamente.'}, {'role': 'assistant', 'content': '\\n    SELECT u.*, p.phone, p.address, o.*\\n    FROM users u\\n    JOIN profiles p ON u.user_id = p.user_id\\n    JOIN orders o ON u.user_id = o.user_id\\n    ORDER BY o.order_date DESC;\\n    '}, {'role': 'user', 'content': '¿Cuántos usuarios hay en cada grupo de edad'}, {'role': 'assistant', 'content': \"\\n    SELECT \\n      CASE \\n        WHEN age < 25 THEN 'Jóvenes'\\n        WHEN age BETWEEN 25 AND 40 THEN 'Adultos'\\n        ELSE 'Seniors'\\n      END AS grupo_edad,\\n      COUNT(*) AS total\\n    FROM users\\n    GROUP BY grupo_edad;\\n    \"}, {'role': 'user', 'content': '¿Cuántos usuarios hay en cada grupo de edad: jóvenes, adultos y seniors?'}, {'role': 'assistant', 'content': \"\\n    SELECT \\n      CASE \\n        WHEN age < 25 THEN 'Jóvenes'\\n        WHEN age BETWEEN 25 AND 40 THEN 'Adultos'\\n        ELSE 'Seniors'\\n      END AS grupo_edad,\\n      COUNT(*) AS total\\n    FROM users\\n    GROUP BY grupo_edad;\\n    \"}, {'role': 'user', 'content': '¿Cuáles son los primeros 5 contactos de usuarios mayores de 30 años que se registraron este año?'}, {'role': 'assistant', 'content': \"\\n    SELECT u.name, u.email, p.phone, p.address, u.created_at\\n    FROM users u\\n    JOIN profiles p ON u.user_id = p.user_id\\n    WHERE u.age > 30\\n      AND strftime('%Y', u.created_at) = strftime('%Y', DATE('now'))\\n    ORDER BY u.created_at ASC\\n    LIMIT 5;\\n    \"}, {'role': 'user', 'content': '¿Cuál es el gasto promedio por pedido para cada usuario?'}]\n",
            "LLM Response: \n",
            "    SELECT u.user_id, u.name, AVG(o.amount) AS gasto_promedio\n",
            "    FROM users u\n",
            "    JOIN orders o ON u.user_id = o.user_id\n",
            "    GROUP BY u.user_id;\n",
            "    \n",
            "Extracted SQL: SELECT u.user_id, u.name, AVG(o.amount) AS gasto_promedio\n",
            "    FROM users u\n",
            "    JOIN orders o ON u.user_id = o.user_id\n",
            "    GROUP BY u.user_id;\n",
            "Top 3 productos más vendidos:\n",
            "  product  cantidad_vendida\n",
            "0  Webcam                 1\n",
            "1  Tripod                 1\n",
            "2  Tablet                 1\n",
            "\n",
            "Gasto promedio por pedido para cada usuario:\n",
            "   user_id     name  gasto_promedio\n",
            "0        1    Alice      612.750000\n",
            "1        2      Bob       75.000000\n",
            "2        3  Charlie      300.000000\n",
            "3        4    Diana      196.666667\n",
            "4        5   Edward      290.000000\n",
            "5        6    Fiona       93.333333\n",
            "6        7   George       45.000000\n",
            "7        8   Hannah      135.000000\n"
          ]
        }
      ],
      "source": [
        "# Generar dos nuevas preguntas de negocio y obtener el SQL correspondiente\n",
        "query_top_productos = vn.generate_sql(\"¿Cuáles son los 3 productos más vendidos y cuántas veces se vendió cada uno?\")\n",
        "query_promedio_gasto = vn.generate_sql(\"¿Cuál es el gasto promedio por pedido para cada usuario?\")\n",
        "\n",
        "# Ejecutar las consultas y guardar los resultados en dataframes\n",
        "df_top_productos = pd.read_sql_query(query_top_productos, conn)\n",
        "df_promedio_gasto = pd.read_sql_query(query_promedio_gasto, conn)\n",
        "\n",
        "# Imprimir los resultados\n",
        "print(\"Top 3 productos más vendidos:\")\n",
        "print(df_top_productos)\n",
        "print(\"\\nGasto promedio por pedido para cada usuario:\")\n",
        "print(df_promedio_gasto)"
      ]
    }
  ],
  "metadata": {
    "colab": {
      "provenance": []
    },
    "kernelspec": {
      "display_name": "IA",
      "language": "python",
      "name": "python3"
    },
    "language_info": {
      "codemirror_mode": {
        "name": "ipython",
        "version": 3
      },
      "file_extension": ".py",
      "mimetype": "text/x-python",
      "name": "python",
      "nbconvert_exporter": "python",
      "pygments_lexer": "ipython3",
      "version": "3.13.5"
    }
  },
  "nbformat": 4,
  "nbformat_minor": 0
}
