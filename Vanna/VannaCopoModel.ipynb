{
 "cells": [
  {
   "cell_type": "code",
   "execution_count": 1,
   "id": "52b994d8",
   "metadata": {},
   "outputs": [],
   "source": [
    "import sqlite3\n",
    "import pandas as pd\n",
    "from vanna.remote import VannaDefault\n",
    "\n",
    "from dotenv import load_dotenv\n",
    "import os"
   ]
  },
  {
   "cell_type": "code",
   "execution_count": null,
   "id": "f73283ee",
   "metadata": {},
   "outputs": [],
   "source": [
    "\n",
    "load_dotenv(dotenv_path='../.env')\n",
    "# https://vanna.ai/account/profile\n",
    "\n",
    "api_key = os.getenv('RAPIDAPI_KEY')\n",
    "vanna_model_name = os.getenv('RAPIDAPI_HOST')\n",
    "vn = VannaDefault(model=vanna_model_name, api_key=api_key)\n"
   ]
  }
 ],
 "metadata": {
  "kernelspec": {
   "display_name": "IA",
   "language": "python",
   "name": "python3"
  },
  "language_info": {
   "codemirror_mode": {
    "name": "ipython",
    "version": 3
   },
   "file_extension": ".py",
   "mimetype": "text/x-python",
   "name": "python",
   "nbconvert_exporter": "python",
   "pygments_lexer": "ipython3",
   "version": "3.13.5"
  }
 },
 "nbformat": 4,
 "nbformat_minor": 5
}
